{
  "nbformat": 4,
  "nbformat_minor": 0,
  "metadata": {
    "colab": {
      "name": "code1.ipynb",
      "provenance": [],
      "collapsed_sections": [],
      "authorship_tag": "ABX9TyPNXTs2n5Pcna9sjGSeTGH/",
      "include_colab_link": true
    },
    "kernelspec": {
      "name": "python3",
      "display_name": "Python 3"
    }
  },
  "accelerator": "GPU"
},
  "cells": [
    {
      "cell_type": "markdown",
      "metadata": {
        "id": "view-in-github",
        "colab_type": "text"
      },
      "source": [
        "<a href=\"https://colab.research.google.com/github/bhavanapavuluri/reimagined-octo-funicular/blob/master/code1.ipynb\" target=\"_parent\"><img src=\"https://colab.research.google.com/assets/colab-badge.svg\" alt=\"Open In Colab\"/></a>"
      ]
    },
    {
      "cell_type": "markdown",
      "metadata": {
        "id": "kdOALLHgMu7f",
        "colab_type": "text"
      },
      "source": [
        "**Name:** Bhavana Pavuluri\n",
        "\n",
        "**Internship Project Topic:** Automate extraction of handwritten text from an image.\n",
        "\n",
        "**Name of the Organization:** TCS iON\n",
        "\n",
        "**Name of the Industry Mentor:** Anamika Chatterjee\n",
        "\n",
        "**Name of the Institute:** St.PETER'S ENGINEERING COLLEGE(SPEC) "
      ]
    },
    {
      "cell_type": "markdown",
      "metadata": {
        "id": "4-yKpihT25p8",
        "colab_type": "text"
      },
      "source": [
        "## **Installation:** This is the installation guide module.\n",
        "### You have to install all dependencies given below one by one."
      ]
    },
    {
      "cell_type": "code",
      "metadata": {
        "id": "laryBfFNRY0q",
        "colab_type": "code",
        "colab": {}
      },
      "source": [
        "!sudo apt install tesseract-ocr\n",
        "!pip install pytesseract"
      ],
      "execution_count": null,
      "outputs": []
    },
    {
      "cell_type": "code",
      "metadata": {
        "id": "EP7AAXXTEFgf",
        "colab_type": "code",
        "colab": {}
      },
      "source": [
        "import pytesseract\n",
        "import shutil\n",
        "import os\n",
        "import random\n",
        "try:\n",
        " from PIL import Image\n",
        "except ImportError:\n",
        " import Image\n"
      ],
      "execution_count": 4,
      "outputs": []
    },
    {
      "cell_type": "code",
      "metadata": {
        "id": "oZq5K-ssToL2",
        "colab_type": "code",
        "colab": {}
      },
      "source": [
        "from google.colab import files\n",
        "\n",
        "uploaded = files.upload()\n",
        "\n",
        "for filename in uploaded.keys():\n",
        "    print(uploaded[filename])"
      ],
      "execution_count": null,
      "outputs": []
    },
    {
      "cell_type": "code",
      "metadata": {
        "id": "1RlRF8q8U1Wl",
        "colab_type": "code",
        "colab": {
          "base_uri": "https://localhost:8080/",
          "height": 151
        },
        "outputId": "15a85e25-f7e8-407d-93b9-67491530c9f5"
      },
      "source": [
        "import cv2\n",
        "import numpy as np\n",
        "\n",
        "# Path of working folder on Disk\n",
        "def get_string(img_path_in_colab):\n",
        "    \n",
        "    # Read image with opencv\n",
        "    img = cv2.imread(img_path_in_colab)\n",
        "\n",
        "    # adjust contrast and brightness\n",
        "    contrast_img = cv2.addWeighted(img, 2.5, np.zeros(img.shape, img.dtype), 0, 20)\n",
        "\n",
        "    # Convert to gray\n",
        "    img = cv2.cvtColor(img, cv2.COLOR_BGR2GRAY)\n",
        "\n",
        "    # blur\n",
        "    img_blur = cv2.GaussianBlur(img,(5,5),0)\n",
        "\n",
        "    #edges\n",
        "    edge_img = cv2.Canny(img,100,200)\n",
        "    \n",
        "    #padding\n",
        "    top, bottom, left, right = [150]*4\n",
        "    img_with_border = cv2.copyMakeBorder(img, top, bottom, left, right, cv2.BORDER_REPLICATE)\n",
        "\n",
        "    #  Apply threshold to get image with only black and white\n",
        "    filtered = cv2.adaptiveThreshold(img.astype(np.uint8), 255, cv2.ADAPTIVE_THRESH_GAUSSIAN_C, cv2.THRESH_BINARY, 199, 5)\n",
        "    kernel = np.ones((3, 3), np.uint8)\n",
        "    opening = cv2.morphologyEx(filtered, cv2.MORPH_OPEN, kernel)\n",
        "    closing = cv2.morphologyEx(opening, cv2.MORPH_CLOSE, kernel)\n",
        "    or_image = cv2.bitwise_or(img, closing)\n",
        "\n",
        "     # Write image after removing noise\n",
        "    cv2.imwrite(\"removed_noise.png\", img)\n",
        "\n",
        "    # Write the image after apply opencv to do some ...\n",
        "    cv2.imwrite(img_path_in_colab, img)\n",
        "\n",
        "    # Recognize text with tesseract for python\n",
        "    extractedInformation = pytesseract.image_to_string(Image.open (img_path_in_colab))\n",
        "\n",
        "    # Remove template file\n",
        "    return extractedInformation\n",
        "\n",
        "print (\"__Recognition and extration process started successfully__\")\n",
        "print (\"__Recognized and extracted text form input image is__:\")\n",
        "print (get_string(filename))\n",
        "print (\"__Extracted successfully__\")\n",
        "\n",
        "\n"
      ],
      "execution_count": 174,
      "outputs": [
        {
          "output_type": "stream",
          "text": [
            "__Recognition and extration process started successfully__\n",
            "__Recognized and extracted text form input image is__:\n",
            "TODAY isa\n",
            "Good day!\n",
            "\n",
            "MY TEAN IS\n",
            "The best TERN!\n",
            "__Extracted successfully__\n"
          ],
          "name": "stdout"
        }
      ]
    }
  ]
}
