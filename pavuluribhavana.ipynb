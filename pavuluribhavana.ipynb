{
  "nbformat": 4,
  "nbformat_minor": 0,
  "metadata": {
    "colab": {
      "name": "pavuluribhavana.ipynb",
      "provenance": [],
      "authorship_tag": "ABX9TyNYa3BgEA4BDvAaAHboLW7W",
      "include_colab_link": true
    },
    "kernelspec": {
      "name": "python3",
      "display_name": "Python 3"
    }
  },
  "cells": [
    {
      "cell_type": "markdown",
      "metadata": {
        "id": "view-in-github",
        "colab_type": "text"
      },
      "source": [
        "<a href=\"https://colab.research.google.com/github/bhavanapavuluri/reimagined-octo-funicular/blob/master/pavuluribhavana.ipynb\" target=\"_parent\"><img src=\"https://colab.research.google.com/assets/colab-badge.svg\" alt=\"Open In Colab\"/></a>"
      ]
    },
    {
      "cell_type": "markdown",
      "metadata": {
        "id": "d12jJMvtt48v",
        "colab_type": "text"
      },
      "source": [
        "**Name:** Bhavana Pavuluri\n",
        "\n",
        "**Internship project topic:** Automate extraction of handwritten text from an image.\n",
        "\n",
        "**Name of the Organization:** TCS iON\n",
        "\n",
        "**Name of the Industry Mentor:** Anamika Chatterjee\n",
        "\n",
        "**Name of the Institute:** St.PETER'S Engineering College\n",
        "\n",
        "Installation Module: You have to install tesseract-ocr engine and pytesseract which is a wrapper of tesseract-ocr engine"
      ]
    },
    {
      "cell_type": "code",
      "metadata": {
        "id": "eOusk3dUnvXL",
        "colab_type": "code",
        "colab": {}
      },
      "source": [
        "!sudo apt install tesseract-ocr\n",
        "!pip install pytesseract\n"
      ],
      "execution_count": null,
      "outputs": []
    },
    {
      "cell_type": "markdown",
      "metadata": {
        "id": "XL15-OBVuEja",
        "colab_type": "text"
      },
      "source": [
        "In this cell you will import all the required modules or libraries"
      ]
    },
    {
      "cell_type": "code",
      "metadata": {
        "id": "ihN3bKSXtebw",
        "colab_type": "code",
        "colab": {}
      },
      "source": [
        "import pytesseract\n",
        "import shutil\n",
        "import os\n",
        "from PIL import Image"
      ],
      "execution_count": 2,
      "outputs": []
    },
    {
      "cell_type": "markdown",
      "metadata": {
        "id": "iX5b7TlPuO6v",
        "colab_type": "text"
      },
      "source": [
        "Input cell: In this we will create an upload button by which you can easily upload images from your PC.Also it retrieves the image from which the text is to be extracted"
      ]
    },
    {
      "cell_type": "code",
      "metadata": {
        "id": "EGpsaybHskf_",
        "colab_type": "code",
        "colab": {}
      },
      "source": [
        "from google.colab import files\n",
        "\n",
        "uploaded = files.upload()\n",
        "\n",
        "for filename in uploaded.keys():\n",
        "    print(uploaded[filename])"
      ],
      "execution_count": null,
      "outputs": []
    },
    {
      "cell_type": "markdown",
      "metadata": {
        "id": "-sNdQHJnuboG",
        "colab_type": "text"
      },
      "source": [
        "Image which is used to test this project\n",
        "\n",
        "![alt text](https://i.pinimg.com/236x/3e/4e/31/3e4e31eb6d94daf2901894268022c048--typography-instagram.jpg)\n",
        "\n",
        "You can use or download IAM handwriting database images at [link text](http://www.fki.inf.unibe.ch/databases/iam-handwriting-database)\n"
      ]
    },
    {
      "cell_type": "markdown",
      "metadata": {
        "id": "Y1mfLK_uvAvS",
        "colab_type": "text"
      },
      "source": [
        "Output cell: In this we have done image processing and text extraction"
      ]
    },
    {
      "cell_type": "code",
      "metadata": {
        "id": "haPw1Y6QEHbE",
        "colab_type": "code",
        "colab": {
          "base_uri": "https://localhost:8080/",
          "height": 67
        },
        "outputId": "d03e1720-5bc2-4ded-b84a-6f39516e2c95"
      },
      "source": [
        "import cv2 \n",
        "import pytesseract\n",
        "import numpy as np\n",
        "\n",
        "# read image\n",
        "im = cv2.imread(filename)\n",
        "\n",
        "# preprocessing\n",
        "# adjust contrast and brightness\n",
        "def contrast_brightness(img):\n",
        "    contrast_img = cv2.addWeighted(img, 2.5, np.zeros(img.shape, img.dtype), 0, 20)\n",
        "    cv2.imwrite(r'img_contrast.png',img)\n",
        "    return contrast_img\n",
        "\n",
        "# gray scale\n",
        "def gray(img):\n",
        "    img = cv2.cvtColor(img, cv2.COLOR_BGR2GRAY)\n",
        "    cv2.imwrite(r\"img_gray.png\",img)\n",
        "    return img  \n",
        "\n",
        "# detect and correct the text skew\n",
        "def dcskew(img):\n",
        "    img=cv2.bitwise_not(img)\n",
        "    coordinates = np.column_stack(np.where(img > 0))\n",
        "    ang=cv2.minAreaRect(coordinates)[-1]\n",
        "    if ang<-45:\n",
        "        ang=-(90+ang)\n",
        "    else:\n",
        "        ang=-ang\n",
        "    height, width = img.shape[:2]\n",
        "    center = (width / 2, height / 2)    \n",
        "    rotationMatrix = cv2.getRotationMatrix2D(center, ang, 1.0)\n",
        "    rotated_img = cv2.warpAffine(img, rotationMatrix, (width, height), borderMode = cv2.BORDER_REFLECT)\n",
        "    cv2.imwrite(\"img_rotated.png\",rotated_img)\n",
        "    return img\n",
        "\n",
        "# blur\n",
        "def blur(img) :\n",
        "    img_blur = cv2.GaussianBlur(img,(5,5),0)\n",
        "    cv2.imwrite(r\"img_blur.png\",img)    \n",
        "    return img_blur\n",
        "\n",
        "# detect edges\n",
        "def edges(img):\n",
        "    edge_img = cv2.Canny(img,100,200)\n",
        "    cv2.imwrite(\"edge_img.png\",img)\n",
        "    return edge_img\n",
        "\n",
        "# threshold\n",
        "def threshold(img):\n",
        "    #pixels with value below 100 are turned black (0) and those with higher value are turned white (255)\n",
        "    img = cv2.threshold(img, 225, 255, cv2.THRESH_BINARY_INV)[1]  \n",
        "    mask = img.copy()\n",
        "    mask = cv2.erode(mask, None, iterations=5)\n",
        "    mask = cv2.dilate(mask, None, iterations=5)\n",
        "    output = cv2.bitwise_and(img, img, mask=mask)\n",
        "    cv2.imwrite(r\"img_threshold.png\",img)\n",
        "    return img    \n",
        "\n",
        "# Finding contours \n",
        "im_contrast_brightness = contrast_brightness(im)\n",
        "im_gray = gray(im_contrast_brightness)\n",
        "im_dcskew = dcskew(im_gray)\n",
        "im_blur = blur(im_dcskew)\n",
        "im_edges = edges(im_blur)\n",
        "im_thresh = threshold(im_edges)\n",
        "\n",
        "contours, _ = cv2.findContours(im_thresh, cv2.RETR_EXTERNAL, cv2.CHAIN_APPROX_NONE) \n",
        "# text detection\n",
        "def contours_text(orig, img, contours):\n",
        "    for cnt in contours: \n",
        "        x, y, w, h = cv2.boundingRect(cnt) \n",
        "\n",
        "        # Drawing a rectangle on copied image \n",
        "        rect = cv2.rectangle(orig, (x, y), (x + w, y + h), (0, 255, 255), 2) \n",
        "      \n",
        "        # Cropping the text block for giving input to OCR \n",
        "        cropped = orig[y:y + h, x:x + w] \n",
        "        cv2.imwrite(r\"croppped_image.png\",img)\n",
        "\n",
        "im_contours = contours_text(im,im,im)\n",
        "cv2.imwrite(filename,im)\n",
        "# Apply OCR on the cropped image \n",
        "text = pytesseract.image_to_string(Image.open(filename))\n",
        "print(text)"
      ],
      "execution_count": 16,
      "outputs": [
        {
          "output_type": "stream",
          "text": [
            "YOURE\n",
            "ACTUALLY\n",
            "WOWDERFUL\n"
          ],
          "name": "stdout"
        }
      ]
    }
  ]
}